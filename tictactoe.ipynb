{
 "cells": [
  {
   "cell_type": "code",
   "execution_count": 1,
   "metadata": {},
   "outputs": [],
   "source": [
    "from IPython.display import clear_output\n",
    "\n",
    "def display_board(board):\n",
    "    clear_output()  #only works in jupyter\n",
    "    \n",
    "    print('   |   |     ')\n",
    "    print(' {} | {} | {} '.format(board[1],board[2],board[3]))\n",
    "    print(' ----------')\n",
    "    print(' {} | {} | {} '.format(board[4],board[5],board[6]))\n",
    "    print(' ----------')\n",
    "    print(' {} | {} | {} '.format(board[7],board[8],board[9]))\n",
    "    print('   |   |     ')\n",
    "    "
   ]
  },
  {
   "cell_type": "code",
   "execution_count": 2,
   "metadata": {},
   "outputs": [],
   "source": [
    "def player_input():\n",
    "    \n",
    "    loopFlag = True\n",
    "    valid_choices = ['X','O']\n",
    "    \n",
    "    while loopFlag: \n",
    "        \n",
    "        choice = input('Player 1: Do you want to be X or O? ')\n",
    "        \n",
    "        if choice.upper() not in valid_choices:\n",
    "            print(\"Sorry, invalid choice.\")\n",
    "        else:\n",
    "            if choice.upper() == 'X':\n",
    "                return ('X','O')\n",
    "                loopFlag = False\n",
    "            else:\n",
    "                return ('O','X')\n",
    "                loopFlag = False\n",
    "            "
   ]
  },
  {
   "cell_type": "code",
   "execution_count": 3,
   "metadata": {},
   "outputs": [],
   "source": [
    "def place_marker(board, marker,select_position):\n",
    "    board[select_position] = marker"
   ]
  },
  {
   "cell_type": "code",
   "execution_count": 4,
   "metadata": {},
   "outputs": [],
   "source": [
    "def win_check(board, mark):\n",
    "    \n",
    "    #checking wins on horizontal\n",
    "    if (board[1] == mark and board[2] == mark and board[3] == mark) or (board[4] == mark and board[5] == mark and board[6] == mark) or (board[7] == mark and board[8] == mark and board[9] == mark):\n",
    "        print(\"Congratulations! {} wins!\".format(mark))\n",
    "        return True\n",
    "            \n",
    "    #checking wins on vertical\n",
    "    if (board[1] == mark and board[4] == mark and board[7] == mark) or (board[2] == mark and board[5] == mark and board[8] == mark) or (board[3] == mark and board[6] == mark and board[9] == mark):\n",
    "        print('Congratulations! {} wins!'.format(mark))\n",
    "        return True\n",
    "    \n",
    "    #checking on diagonals\n",
    "    if (board[1] == mark and board[5] == mark and board[9] == mark) or (board[3] == mark and board[5] == mark and board[7] == mark):\n",
    "        print('Congratulations! {} wins!'.format(mark))\n",
    "        return True"
   ]
  },
  {
   "cell_type": "code",
   "execution_count": 5,
   "metadata": {},
   "outputs": [],
   "source": [
    "import random\n",
    "\n",
    "def choose_first():\n",
    "    \n",
    "    who_goes_first = random.randint(0,1)\n",
    "    \n",
    "    if who_goes_first == 0:\n",
    "        return 'Player 1'\n",
    "    else:\n",
    "        return 'Player 2'"
   ]
  },
  {
   "cell_type": "code",
   "execution_count": 6,
   "metadata": {},
   "outputs": [],
   "source": [
    "def space_check(board, position):\n",
    "    \n",
    "    space_check = ' '\n",
    "    \n",
    "    if space_check in board[position]:\n",
    "        return True\n",
    "    else:\n",
    "        return False"
   ]
  },
  {
   "cell_type": "code",
   "execution_count": 7,
   "metadata": {},
   "outputs": [],
   "source": [
    "def full_board_check(board):\n",
    "    \n",
    "    full_check = ' '\n",
    "    \n",
    "    if full_check not in board[1::1]:\n",
    "        return True\n",
    "    else:\n",
    "        return False"
   ]
  },
  {
   "cell_type": "code",
   "execution_count": 8,
   "metadata": {},
   "outputs": [],
   "source": [
    "def player_choice(board):\n",
    "    \n",
    "    loopFlag = True\n",
    "    \n",
    "    while loopFlag:\n",
    "    \n",
    "        user_choice = int(input(\"Choose a number from 1-9 for the next position: \"))\n",
    "        space_bool = space_check(board,user_choice)\n",
    "    \n",
    "        if space_bool:\n",
    "            return int(user_choice)\n",
    "        else:\n",
    "            continue"
   ]
  },
  {
   "cell_type": "code",
   "execution_count": 9,
   "metadata": {},
   "outputs": [],
   "source": [
    "def replay():\n",
    "    \n",
    "    loopFlag = True\n",
    "    replay_options = ['Y','N']\n",
    "    \n",
    "    while loopFlag:\n",
    "    \n",
    "        replay_choice = input('Do you want to replay the game? [Y / N]')\n",
    "    \n",
    "        if replay_choice.upper() not in replay_options:\n",
    "            print('invalid option!')\n",
    "            \n",
    "        if replay_choice.upper() == 'Y':\n",
    "            return True\n",
    "        else:\n",
    "            return False\n",
    "            break"
   ]
  },
  {
   "cell_type": "code",
   "execution_count": 10,
   "metadata": {},
   "outputs": [
    {
     "name": "stdout",
     "output_type": "stream",
     "text": [
      "   |   |     \n",
      " X | O | O \n",
      " ----------\n",
      "   | X |   \n",
      " ----------\n",
      "   |   | X \n",
      "   |   |     \n",
      "Congratulations, player one won the game!\n",
      "Do you want to replay the game? [Y / N]n\n"
     ]
    }
   ],
   "source": [
    "print('Welcome to Tic Tac Toe!')\n",
    "\n",
    "loopFlag = True\n",
    "\n",
    "\n",
    "while loopFlag:\n",
    "    \n",
    "    #create empty board\n",
    "\n",
    "    board = [' ']*10\n",
    "    \n",
    "    #pick the players choices and at the same time, verify the input\n",
    "    choice_player_one,choice_player_two = player_input()\n",
    "    \n",
    "    #turn\n",
    "    turn = choose_first()\n",
    "    print(turn+\" will go first.\")\n",
    "\n",
    "    play_game = input('Are you ready to play? ')\n",
    "\n",
    "    if play_game.upper() == 'Y':\n",
    "        game_on = True\n",
    "    else:\n",
    "        game_on = False\n",
    "        break\n",
    "    \n",
    "    while game_on:\n",
    "        #Player 1 turn\n",
    "        if turn == 'Player 1':\n",
    "            display_board(board)\n",
    "            position = player_choice(board)\n",
    "            place_marker(board,choice_player_one,position)\n",
    "            \n",
    "            if win_check(board,choice_player_one):\n",
    "                display_board(board)\n",
    "                print('Congratulations, player one won the game!')\n",
    "                game_on = False\n",
    "                break\n",
    "                \n",
    "            else:\n",
    "                if full_board_check(board):\n",
    "                    print(\"It's a draw game!\")\n",
    "                    break\n",
    "                else:\n",
    "                    turn = 'Player 2'\n",
    "        \n",
    "        #Player 2 turn\n",
    "        else:\n",
    "            display_board(board)\n",
    "            position = player_choice(board)\n",
    "            place_marker(board,choice_player_two,position)\n",
    "            \n",
    "            if win_check(board,choice_player_two):\n",
    "                display_board(board)\n",
    "                print('Congratulations, player two won the game!')\n",
    "                game_on = False\n",
    "                                \n",
    "            else:\n",
    "                if full_board_check(board):\n",
    "                    display_board(board)\n",
    "                    print(\"It's a draw game!\")\n",
    "                    break\n",
    "                else:\n",
    "                    turn = 'Player 1'\n",
    "                    \n",
    "    if not replay():\n",
    "        break"
   ]
  }
 ],
 "metadata": {
  "kernelspec": {
   "display_name": "Python 3",
   "language": "python",
   "name": "python3"
  },
  "language_info": {
   "codemirror_mode": {
    "name": "ipython",
    "version": 3
   },
   "file_extension": ".py",
   "mimetype": "text/x-python",
   "name": "python",
   "nbconvert_exporter": "python",
   "pygments_lexer": "ipython3",
   "version": "3.7.6"
  }
 },
 "nbformat": 4,
 "nbformat_minor": 4
}
